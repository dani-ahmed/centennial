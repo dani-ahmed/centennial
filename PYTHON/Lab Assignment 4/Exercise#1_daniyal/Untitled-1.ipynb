{
 "cells": [
  {
   "cell_type": "code",
   "execution_count": null,
   "metadata": {},
   "outputs": [],
   "source": [
    "from sklearn.linear_model import LogisticRegression\n",
    "from sklearn.model_selection import cross_val_score\n",
    "from sklearn.model_selection import train_test_split\n",
    "from sklearn.metrics import confusion_matrix\n",
    "from sklearn.metrics import accuracy_score\n",
    "from sklearn.metrics import classification_report\n",
    "import matplotlib.pyplot as plt\n",
    "import numpy as np\n",
    "import pandas as pd\n",
    "import os\n",
    " "
   ]
  },
  {
   "cell_type": "code",
   "execution_count": null,
   "metadata": {},
   "outputs": [],
   "source": [
    "filename = 'titanic.csv'\n",
    "path = 'C:/Users/daniy/Desktop/SEM3/INTRO TO AI (PYTHON)/Lab Assignment 4/Exercise#1_daniyal'\n",
    "fullpath = os.path.join(path, filename)\n",
    "titanic_daniyal = pd.read_csv(fullpath)"
   ]
  },
  {
   "cell_type": "code",
   "execution_count": null,
   "metadata": {},
   "outputs": [],
   "source": [
    "# print first 3 records\n",
    "print(titanic_daniyal.head(3))"
   ]
  },
  {
   "cell_type": "code",
   "execution_count": null,
   "metadata": {},
   "outputs": [],
   "source": [
    "# print shape of dataframe\n",
    "print(titanic_daniyal.shape)"
   ]
  },
  {
   "cell_type": "code",
   "execution_count": null,
   "metadata": {},
   "outputs": [],
   "source": [
    "# print dataframe info\n",
    "print(titanic_daniyal.info())"
   ]
  },
  {
   "cell_type": "code",
   "execution_count": null,
   "metadata": {},
   "outputs": [],
   "source": [
    "# prints unique values for Sex column\n",
    "print(titanic_daniyal['Sex'].unique())"
   ]
  },
  {
   "cell_type": "code",
   "execution_count": null,
   "metadata": {},
   "outputs": [],
   "source": [
    "# prints unique values for Pclass column\n",
    "print(titanic_daniyal['Pclass'].unique())"
   ]
  },
  {
   "cell_type": "code",
   "execution_count": null,
   "metadata": {},
   "outputs": [],
   "source": [
    "# prints crosstab of survived vs pclass\n",
    "pd.crosstab(titanic_daniyal['Survived'], titanic_daniyal['Pclass']).plot(kind = 'bar')\n",
    "plt.title('# Survived vs Passenger Class')\n",
    "plt.xlabel('Passenger Class')\n",
    "plt.ylabel('# of Survivors')"
   ]
  },
  {
   "cell_type": "code",
   "execution_count": null,
   "metadata": {},
   "outputs": [],
   "source": [
    "# prints crosstab of survived vs sex\n",
    "pd.crosstab(titanic_daniyal['Survived'], titanic_daniyal['Sex']).plot(kind = 'bar')\n",
    "plt.title('# Survived vs Gender')\n",
    "plt.xlabel('Gender')\n",
    "plt.ylabel('# of Survivors')"
   ]
  },
  {
   "cell_type": "code",
   "execution_count": null,
   "metadata": {},
   "outputs": [],
   "source": [
    "pd.plotting.scatter_matrix(titanic_daniyal[['Sex', \n",
    "                                            'Pclass', \n",
    "                                            'Fare', \n",
    "                                            'SibSp', \n",
    "                                            'Parch']], \n",
    "                           alpha=0.4, figsize=(13,15))"
   ]
  },
  {
   "cell_type": "code",
   "execution_count": null,
   "metadata": {},
   "outputs": [],
   "source": [
    "titanic_daniyal = titanic_daniyal.drop(['PassengerId', \n",
    "                                        'Name', \n",
    "                                        'Ticket', \n",
    "                                        'Cabin'], axis = 1)"
   ]
  },
  {
   "cell_type": "code",
   "execution_count": null,
   "metadata": {},
   "outputs": [],
   "source": [
    "catvars = ['Sex', 'Embarked']\n",
    "for var in catvars:\n",
    "    catlist = pd.get_dummies(titanic_daniyal[var], prefix = var)\n",
    "    titanic_daniyal = titanic_daniyal.join(catlist)"
   ]
  },
  {
   "cell_type": "code",
   "execution_count": null,
   "metadata": {},
   "outputs": [],
   "source": [
    "titanic_daniyal = titanic_daniyal.drop(catvars, axis = 1)"
   ]
  },
  {
   "cell_type": "code",
   "execution_count": null,
   "metadata": {},
   "outputs": [],
   "source": [
    "titanic_daniyal = titanic_daniyal.fillna(titanic_daniyal.mean())"
   ]
  },
  {
   "cell_type": "code",
   "execution_count": null,
   "metadata": {},
   "outputs": [],
   "source": [
    "for column in titanic_daniyal:\n",
    "    titanic_daniyal[column] = titanic_daniyal[column].astype(float)"
   ]
  },
  {
   "cell_type": "code",
   "execution_count": null,
   "metadata": {},
   "outputs": [],
   "source": [
    "def normalize(df):\n",
    "    normalized = (df - df.min()) / (df.max() - df.min())\n",
    "    return normalized\n",
    "titanic_daniyal = normalize(titanic_daniyal)"
   ]
  },
  {
   "cell_type": "code",
   "execution_count": null,
   "metadata": {},
   "outputs": [],
   "source": [
    "print(titanic_daniyal.head(2))"
   ]
  },
  {
   "cell_type": "code",
   "execution_count": null,
   "metadata": {},
   "outputs": [],
   "source": [
    "titanic_daniyal.hist(figsize = (9, 10))"
   ]
  },
  {
   "cell_type": "code",
   "execution_count": null,
   "metadata": {},
   "outputs": [],
   "source": [
    "featurecols = ['Pclass',\n",
    "               'Age',\n",
    "               'SibSp',\n",
    "               'Parch',\n",
    "               'Fare',\n",
    "               'Sex_female',\n",
    "               'Sex_male',\n",
    "               'Embarked_C',\n",
    "               'Embarked_Q',\n",
    "               'Embarked_S']\n",
    "x_daniyal = titanic_daniyal[featurecols]\n",
    "y_daniyal = titanic_daniyal['Survived']"
   ]
  },
  {
   "cell_type": "code",
   "execution_count": null,
   "metadata": {},
   "outputs": [],
   "source": [
    "# sets seed to 72\n",
    "np.random.seed(72)"
   ]
  },
  {
   "cell_type": "code",
   "execution_count": null,
   "metadata": {},
   "outputs": [],
   "source": [
    "x_train_daniyal, x_test_daniyal, y_train_daniyal, y_test_daniyal = train_test_split(x_daniyal, \n",
    "                                                                                    y_daniyal, \n",
    "                                                                                    test_size = 0.3)"
   ]
  },
  {
   "cell_type": "code",
   "execution_count": null,
   "metadata": {},
   "outputs": [],
   "source": [
    "lr = LogisticRegression()\n",
    "lr.fit(x_train_daniyal, y_train_daniyal)"
   ]
  },
  {
   "cell_type": "code",
   "execution_count": null,
   "metadata": {},
   "outputs": [],
   "source": [
    "pd.DataFrame(zip(x_train_daniyal.columns, np.transpose(lr.coef_)))"
   ]
  },
  {
   "cell_type": "code",
   "execution_count": null,
   "metadata": {},
   "outputs": [],
   "source": [
    "scores = cross_val_score(LogisticRegression(solver = 'lbfgs'), x_train_daniyal, y_train_daniyal, \n",
    "                         scoring = 'accuracy', cv = 10)\n",
    "print(scores)"
   ]
  },
  {
   "cell_type": "code",
   "execution_count": null,
   "metadata": {},
   "outputs": [],
   "source": [
    "print(scores.mean())"
   ]
  },
  {
   "cell_type": "code",
   "execution_count": null,
   "metadata": {},
   "outputs": [],
   "source": [
    "for i in np.arange (0.1, 0.5, 0.05):\n",
    "    x_train_daniyal, x_test_daniyal, y_train_daniyal, y_test_daniyal = train_test_split(x_daniyal, y_daniyal, test_size = i)\n",
    "    lr = LogisticRegression()\n",
    "    lr.fit(x_train_daniyal, y_train_daniyal)\n",
    "    scores = cross_val_score(LogisticRegression(solver = 'lbfgs'), x_train_daniyal, y_train_daniyal, \n",
    "                             scoring = 'accuracy', cv = 10)\n",
    "    print(\"Testing data size: \", i)\n",
    "    print(\"Min Score: \", min(scores))\n",
    "    print(\"Max Score: \", max(scores))\n",
    "    print(\"Mean Score: \", scores.mean())\n",
    "    print()"
   ]
  },
  {
   "cell_type": "code",
   "execution_count": null,
   "metadata": {},
   "outputs": [],
   "source": [
    "x_train_daniyal, x_test_daniyal, y_train_daniyal, y_test_daniyal = train_test_split(x_daniyal, y_daniyal, test_size = 0.3)\n",
    "lr = LogisticRegression()\n",
    "lr.fit(x_train_daniyal, y_train_daniyal)"
   ]
  },
  {
   "cell_type": "code",
   "execution_count": null,
   "metadata": {},
   "outputs": [],
   "source": [
    "y_pred_daniyal = lr.predict_proba(x_test_daniyal)"
   ]
  },
  {
   "cell_type": "code",
   "execution_count": null,
   "metadata": {},
   "outputs": [],
   "source": [
    "y_pred_daniyal_flag = y_pred_daniyal[:, 1] > 0.5"
   ]
  },
  {
   "cell_type": "code",
   "execution_count": null,
   "metadata": {},
   "outputs": [],
   "source": [
    "print(accuracy_score(y_test_daniyal, y_pred_daniyal_flag))"
   ]
  },
  {
   "cell_type": "code",
   "execution_count": null,
   "metadata": {},
   "outputs": [],
   "source": [
    "print(confusion_matrix(y_test_daniyal, y_pred_daniyal_flag))"
   ]
  },
  {
   "cell_type": "code",
   "execution_count": null,
   "metadata": {},
   "outputs": [],
   "source": [
    "print(classification_report(y_test_daniyal, y_pred_daniyal_flag))"
   ]
  },
  {
   "cell_type": "code",
   "execution_count": null,
   "metadata": {},
   "outputs": [],
   "source": [
    "y_pred_daniyal_flag = y_pred_daniyal[:, 1] > 0.75\n",
    "print(accuracy_score(y_test_daniyal, y_pred_daniyal_flag))\n",
    "print(confusion_matrix(y_test_daniyal, y_pred_daniyal_flag))\n",
    "print(classification_report(y_test_daniyal, y_pred_daniyal_flag))"
   ]
  }
 ],
 "metadata": {
  "interpreter": {
   "hash": "0c6c8092e1baa7fa34ad1d70b60d2880da39c6320e0b238af30fc18aff166199"
  },
  "kernelspec": {
   "display_name": "Python 3.9.9 64-bit (windows store)",
   "language": "python",
   "name": "python3"
  },
  "language_info": {
   "codemirror_mode": {
    "name": "ipython",
    "version": 3
   },
   "file_extension": ".py",
   "mimetype": "text/x-python",
   "name": "python",
   "nbconvert_exporter": "python",
   "pygments_lexer": "ipython3",
   "version": "3.9.9"
  },
  "orig_nbformat": 4
 },
 "nbformat": 4,
 "nbformat_minor": 2
}
